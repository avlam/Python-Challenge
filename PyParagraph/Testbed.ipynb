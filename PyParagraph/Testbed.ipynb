{
 "cells": [
  {
   "cell_type": "code",
   "execution_count": 1,
   "metadata": {},
   "outputs": [],
   "source": [
    "# PyParagraph Exercise for UCB Extension Data Science Bootcamp, HW3\n",
    "# Written by A. Lam\n",
    "\n",
    "# Modules\n",
    "import os\n",
    "import csv\n",
    "import re\n",
    "import string"
   ]
  },
  {
   "cell_type": "code",
   "execution_count": 2,
   "metadata": {},
   "outputs": [],
   "source": [
    "# Prompt for filename\n",
    "# sourceFile = input('Please input the source filename and extension: ')\n",
    "sourceDir = 'raw_data'\n",
    "sourceFile = 'paragraph_1.txt'\n",
    "filePath = os.path.join(sourceDir,sourceFile)"
   ]
  },
  {
   "cell_type": "code",
   "execution_count": 45,
   "metadata": {},
   "outputs": [
    {
     "name": "stdout",
     "output_type": "stream",
     "text": [
      "[5]\n",
      "[27, 25, 29, 28, 21]\n",
      "[4, 10, 2, 7, 2, 9, 2, 9, 8, 4, 3, 6, 10, 3, 7, 3, 3, 9, 3, 6, 5, 2, 4, 9, 8, 6, 7, 2, 7, 1, 15, 8, 4, 4, 9, 9, 11, 5, 11, 7, 6, 12, 7, 2, 8, 10, 8, 3, 8, 5, 6, 5, 2, 6, 1, 8, 2, 8, 2, 3, 8, 2, 3, 9, 13, 7, 3, 3, 5, 3, 8, 4, 6, 9, 4, 7, 4, 10, 3, 8, 13, 12, 8, 2, 9, 5, 3, 10, 12, 11, 3, 5, 9, 4, 8, 3, 4, 5, 8, 4, 2, 3, 10, 1, 8, 3, 10, 17, 12, 4, 13, 8, 3, 2, 7, 2, 7, 15, 8, 3, 9, 3, 13, 2, 9, 7, 9, 2, 5, 7]\n"
     ]
    }
   ],
   "source": [
    "nSentences = []\n",
    "nWords = []\n",
    "nLetters = []\n",
    "\n",
    "# open file and extract data\n",
    "with open(filePath,'r',newline='') as fileData:\n",
    "    rawData = csv.reader(fileData,delimiter='\\n')\n",
    "    for text in rawData:\n",
    "        for paragraph in text: #In the event multiple paragraphs are passed in a single file\n",
    "            lines = re.split('(?<=[.!?]) +', paragraph)\n",
    "            nSentences.append(len(lines))\n",
    "            for sentence in lines:\n",
    "                # print(sentence)\n",
    "                words = sentence.split(' ')\n",
    "                for word in words:\n",
    "                    # trim punctuation off of the beginning or end of words\n",
    "                    if word[-1] in string.punctuation:\n",
    "                        word = word[:-1]\n",
    "                    if word[0] in string.punctuation:\n",
    "                        word = word[1:]   \n",
    "                    # print(word)\n",
    "                    nLetters.append(len(word))\n",
    "                nWords.append(len(words))\n",
    "                \n",
    "print(nSentences)\n",
    "print(nWords)\n",
    "print(nLetters)"
   ]
  },
  {
   "cell_type": "code",
   "execution_count": 51,
   "metadata": {},
   "outputs": [
    {
     "data": {
      "text/plain": [
       "130"
      ]
     },
     "execution_count": 51,
     "metadata": {},
     "output_type": "execute_result"
    }
   ],
   "source": [
    "import numpy as np\n",
    "np.sum(nWords)"
   ]
  },
  {
   "cell_type": "code",
   "execution_count": null,
   "metadata": {},
   "outputs": [],
   "source": []
  }
 ],
 "metadata": {
  "kernelspec": {
   "display_name": "Python 3",
   "language": "python",
   "name": "python3"
  },
  "language_info": {
   "codemirror_mode": {
    "name": "ipython",
    "version": 3
   },
   "file_extension": ".py",
   "mimetype": "text/x-python",
   "name": "python",
   "nbconvert_exporter": "python",
   "pygments_lexer": "ipython3",
   "version": "3.6.3"
  }
 },
 "nbformat": 4,
 "nbformat_minor": 2
}
